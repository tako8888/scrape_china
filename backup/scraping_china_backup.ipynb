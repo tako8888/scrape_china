{
 "cells": [
  {
   "cell_type": "code",
   "execution_count": 3,
   "id": "84956c90-10d2-4436-805c-456fb1f94c12",
   "metadata": {},
   "outputs": [],
   "source": [
    "# from selenium import webdriver\n",
    "# from selenium.webdriver.common.keys import Keys # to use (Keys.ENTER), need this\n",
    "# from selenium.webdriver.common.by import By # to use By.ID, need this\n",
    "import time\n",
    "import os # for file save\n",
    "from datetime import datetime # for file save\n",
    "\n",
    "import random # for random access"
   ]
  },
  {
   "cell_type": "markdown",
   "id": "aaba8b25-34d2-4711-9714-aef3e02b0d20",
   "metadata": {},
   "source": [
    "# Try to use Nodriver\n",
    "https://github.com/ultrafunkamsterdam/nodriver?tab=readme-ov-file#nodriver"
   ]
  },
  {
   "cell_type": "markdown",
   "id": "b28d142b-f2ba-47fd-b9d8-16d296bde68d",
   "metadata": {},
   "source": [
    "## def save_html_revised"
   ]
  },
  {
   "cell_type": "code",
   "execution_count": 1,
   "id": "a49086e1-3476-4dc7-beac-52c6215b5335",
   "metadata": {
    "scrolled": true
   },
   "outputs": [],
   "source": [
    "def save_html_revised(body):\n",
    "    # page_source = target.page_source\n",
    "    save_directory = './data/scraped/'\n",
    "    current_time = datetime.now().strftime(\"%Y%m%d_%H%M%S\")\n",
    "    file_name = current_time + 'page_source.html'\n",
    "    save_path = os.path.join(save_directory, file_name)\n",
    "    with open(save_path, 'w', encoding='utf-8') as f:\n",
    "        f.write(body)\n",
    "    print(file_name, 'is saved!')"
   ]
  },
  {
   "cell_type": "code",
   "execution_count": 5,
   "id": "fdb0b0a7-f4ca-44c0-86a0-da859f40e593",
   "metadata": {},
   "outputs": [
    {
     "name": "stdin",
     "output_type": "stream",
     "text": [
      "Login manually and enter search the word and set zoom level 80%. After these, enter any key a\n"
     ]
    },
    {
     "name": "stdout",
     "output_type": "stream",
     "text": [
      "20240721_110614page_source.html is saved!\n"
     ]
    },
    {
     "name": "stdin",
     "output_type": "stream",
     "text": [
      "this is 1 loop. to exit loop, type \"exit\" a\n"
     ]
    },
    {
     "name": "stdout",
     "output_type": "stream",
     "text": [
      "===================================\n",
      "20240721_110726page_source.html is saved!\n"
     ]
    },
    {
     "name": "stdin",
     "output_type": "stream",
     "text": [
      "this is 2 loop. to exit loop, type \"exit\" a\n"
     ]
    },
    {
     "name": "stdout",
     "output_type": "stream",
     "text": [
      "===================================\n",
      "20240721_110855page_source.html is saved!\n"
     ]
    },
    {
     "name": "stdin",
     "output_type": "stream",
     "text": [
      "this is 3 loop. to exit loop, type \"exit\" a\n"
     ]
    },
    {
     "name": "stdout",
     "output_type": "stream",
     "text": [
      "===================================\n",
      "20240721_110944page_source.html is saved!\n"
     ]
    },
    {
     "name": "stdin",
     "output_type": "stream",
     "text": [
      "this is 4 loop. to exit loop, type \"exit\" \n"
     ]
    },
    {
     "name": "stdout",
     "output_type": "stream",
     "text": [
      "===================================\n",
      "20240721_111014page_source.html is saved!\n"
     ]
    },
    {
     "name": "stdin",
     "output_type": "stream",
     "text": [
      "this is 5 loop. to exit loop, type \"exit\" a\n"
     ]
    },
    {
     "name": "stdout",
     "output_type": "stream",
     "text": [
      "===================================\n",
      "20240721_111249page_source.html is saved!\n"
     ]
    },
    {
     "name": "stdin",
     "output_type": "stream",
     "text": [
      "this is 6 loop. to exit loop, type \"exit\" a\n"
     ]
    },
    {
     "name": "stdout",
     "output_type": "stream",
     "text": [
      "===================================\n",
      "20240721_111334page_source.html is saved!\n"
     ]
    },
    {
     "name": "stdin",
     "output_type": "stream",
     "text": [
      "this is 7 loop. to exit loop, type \"exit\" a\n"
     ]
    },
    {
     "name": "stdout",
     "output_type": "stream",
     "text": [
      "===================================\n",
      "20240721_111345page_source.html is saved!\n"
     ]
    },
    {
     "name": "stdin",
     "output_type": "stream",
     "text": [
      "this is 8 loop. to exit loop, type \"exit\" a\n"
     ]
    },
    {
     "name": "stdout",
     "output_type": "stream",
     "text": [
      "===================================\n",
      "20240721_111411page_source.html is saved!\n"
     ]
    },
    {
     "name": "stdin",
     "output_type": "stream",
     "text": [
      "this is 9 loop. to exit loop, type \"exit\" a\n"
     ]
    },
    {
     "name": "stdout",
     "output_type": "stream",
     "text": [
      "===================================\n",
      "20240721_111424page_source.html is saved!\n"
     ]
    },
    {
     "name": "stdin",
     "output_type": "stream",
     "text": [
      "this is 10 loop. to exit loop, type \"exit\" a\n"
     ]
    },
    {
     "name": "stdout",
     "output_type": "stream",
     "text": [
      "===================================\n",
      "20240721_111516page_source.html is saved!\n"
     ]
    },
    {
     "name": "stdin",
     "output_type": "stream",
     "text": [
      "this is 11 loop. to exit loop, type \"exit\" a\n"
     ]
    },
    {
     "name": "stdout",
     "output_type": "stream",
     "text": [
      "===================================\n",
      "20240721_111818page_source.html is saved!\n"
     ]
    },
    {
     "name": "stdin",
     "output_type": "stream",
     "text": [
      "this is 12 loop. to exit loop, type \"exit\" a\n"
     ]
    },
    {
     "name": "stdout",
     "output_type": "stream",
     "text": [
      "===================================\n",
      "20240721_111831page_source.html is saved!\n"
     ]
    },
    {
     "name": "stdin",
     "output_type": "stream",
     "text": [
      "this is 13 loop. to exit loop, type \"exit\" a\n"
     ]
    },
    {
     "name": "stdout",
     "output_type": "stream",
     "text": [
      "===================================\n",
      "20240721_111842page_source.html is saved!\n"
     ]
    },
    {
     "name": "stdin",
     "output_type": "stream",
     "text": [
      "this is 14 loop. to exit loop, type \"exit\" a\n"
     ]
    },
    {
     "name": "stdout",
     "output_type": "stream",
     "text": [
      "===================================\n",
      "20240721_111926page_source.html is saved!\n"
     ]
    },
    {
     "name": "stdin",
     "output_type": "stream",
     "text": [
      "this is 15 loop. to exit loop, type \"exit\" a\n"
     ]
    },
    {
     "name": "stdout",
     "output_type": "stream",
     "text": [
      "===================================\n",
      "20240721_112030page_source.html is saved!\n"
     ]
    },
    {
     "name": "stdin",
     "output_type": "stream",
     "text": [
      "this is 16 loop. to exit loop, type \"exit\" exit\n"
     ]
    },
    {
     "name": "stdout",
     "output_type": "stream",
     "text": [
      "===================================\n",
      "exited the loop in 16 times\n"
     ]
    }
   ],
   "source": [
    "import asyncio\n",
    "import nodriver as uc\n",
    "\n",
    "async def start_browser():\n",
    "    browser = await uc.start()\n",
    "    page = await browser.get('http://www.xiaohongshu.com/')\n",
    "    input(\"Login manually and enter search the word and set zoom level 80%. After these, enter any key\")\n",
    "\n",
    "    # below, scroll and save \n",
    "\n",
    "    input_sentence = ''\n",
    "    count = 0\n",
    "    while input_sentence != 'exit':\n",
    "        content = await page.get_content()\n",
    "        save_html_revised(content) # my function above cell\n",
    "        await page.scroll_down(100)\n",
    "\n",
    "        count += 1\n",
    "        input_sentence = input(f'this is {count} loop. to exit loop, type \"exit\"')\n",
    "        \n",
    "        print('===================================')\n",
    "    else:\n",
    "        print(f'exited the loop in {count} times')\n",
    "\n",
    "\n",
    "\n",
    "await start_browser()\n",
    "\n"
   ]
  },
  {
   "cell_type": "markdown",
   "id": "19522e3c-f8c0-4e04-82f0-37734ea31164",
   "metadata": {},
   "source": [
    "# Test for a local saved file"
   ]
  },
  {
   "cell_type": "code",
   "execution_count": 6,
   "id": "d1cf24da-7762-40e6-8ce2-7244366250af",
   "metadata": {},
   "outputs": [],
   "source": [
    "# opening spell\n",
    "import requests\n",
    "from bs4 import BeautifulSoup\n",
    "import pandas as pd\n",
    "\n",
    "\n",
    "with open(\"./data/scraped/20240721_112030page_source.html\", \"r\", encoding=\"utf-8\") as file:\n",
    "    content = file.read()\n",
    "soup = BeautifulSoup(content)"
   ]
  },
  {
   "cell_type": "code",
   "execution_count": 12,
   "id": "101d318f-dc1e-42ee-af4c-9a088824a29d",
   "metadata": {
    "scrolled": true
   },
   "outputs": [
    {
     "name": "stdout",
     "output_type": "stream",
     "text": [
      "title='关于核废水倒海，还有一件更可怕的事' like_count= '446' author_name='科普研究所'clean_link='/explore/65b8fc97000000002c03f2d3'\n",
      "title='日本核污水排海最新消息！' like_count= '46' author_name='乖乖小鱼🐟'clean_link='/explore/65b8a8c5000000002d001104'\n",
      "title='' like_count= '1.7万' author_name='主角.'clean_link='/explore/65b728c9000000002c0293e6'\n",
      "title='日本排放核污水的热度已经过了吗？' like_count= '1087' author_name='黑化修狗'clean_link='/explore/65b623e4000000002c0362ad'\n",
      "title='日本排核污水在日本打工的中国人都怎么看？' like_count= '179' author_name='果酱的日本生活'clean_link='/explore/65b37055000000002c013325'\n",
      "title='别担心污水！！！' like_count= '1100' author_name='芜怨幽徒（散厨）'clean_link='/explore/65abc84c000000002c03fc3f'\n",
      "title='我去了核污水排放地' like_count= '189' author_name='Potato'clean_link='/explore/65ab6cbc000000002c000777'\n",
      "title='vocal…是真消息…大家理智吃瓜吧…' like_count= '816' author_name='伶呵呵'clean_link='/explore/65a79120000000002a014b8b'\n",
      "title='今天是日本排污第100天💀真的默许了吗？' like_count= '91' author_name='莺哥浩浩'clean_link='/explore/65942bd0000000001d03369b'\n",
      "title='日本排放核废水的真相终于找到了' like_count= '1848' author_name='商业思维'clean_link='/explore/6591508e0000000012003006'\n",
      "title='核污染有多可怕㊙️日本男子83天变化惊人❗' like_count= '1345' author_name='39健康网'clean_link='/explore/658bbf77000000001102fa5a'\n",
      "title='当我刷到英国核泄漏' like_count= '50' author_name='米布米宝'clean_link='/explore/658c1c89000000001d033878'\n",
      "title='挑战100只核污染生物 NO.22' like_count= '1000' author_name='野猪手作姬（作品号）'clean_link='/explore/6570b4280000000038032ea9'\n",
      "title='铁子们，日本的核污水危害有多大⚠️' like_count= '2万' author_name='阿师傅Asaad'clean_link='/explore/6582801c000000003a00a638'\n",
      "title='好恶心…不是三天，而是整整三十年啊！！' like_count= '380' author_name='小鱼干'clean_link='/explore/657c10d000000000070387f7'\n",
      "title='我会坚持发生~声 #日本 #日本核废水' like_count= '3223' author_name='朱哥汽车用品'clean_link='/explore/657a672600000000090185bc'\n",
      "title='日本排放核污水😡😡😡😡😡😡' like_count= '814' author_name='少寻海Sucré'clean_link='/explore/65758ccd000000000901b225'\n",
      "title='日本第三轮核污水排放结束' like_count= '18' author_name='人间清醒营销号'clean_link='/explore/657036d6000000000503b130'\n",
      "title='如果你喝掉核废水会怎么样？？？' like_count= '2696' author_name='如此一般'clean_link='/explore/656b0aa50000000039032cf6'\n",
      "title='AIGC｜当核废水侵蚀我们的世界' like_count= '370' author_name='狂野男孩.'clean_link='/explore/6554879f0000000032031c21'\n"
     ]
    }
   ],
   "source": [
    "\n",
    "projects_section = soup.select(\".feeds-container\")[0]\n",
    "project_els = projects_section.select(\".note-item\")\n",
    "\n",
    "for i, elem in enumerate(project_els):\n",
    "    try:\n",
    "        clean_link = elem.select('a[style=\"display: none;\"]')[0]['href']\n",
    "        dirty_link = elem.select('a[target=\"_self\"]')[0]['href']\n",
    "        try:\n",
    "            title = elem.select('.footer>.title')[0].text\n",
    "        except IndexError:\n",
    "            title = \"\"\n",
    "        like_count = elem.select('.count')[0].text\n",
    "        author_name = elem.select('.name')[0].text\n",
    "        author_link = elem.select('.author')[0]['href']\n",
    "        print(f'{title=} {like_count= } {author_name=}{clean_link=}')\n",
    "        \n",
    "    except IndexError:\n",
    "        print(i, elem.select('.query-note-header-text'))\n",
    "\n"
   ]
  },
  {
   "cell_type": "markdown",
   "id": "79d475db-3e79-4be8-b3d7-fb339006614a",
   "metadata": {},
   "source": [
    "# Now, make it a function to read html files\n",
    "## def read_html return an array"
   ]
  },
  {
   "cell_type": "code",
   "execution_count": 16,
   "id": "881fc0a1-6ef6-4cf3-b44e-9e49545b5598",
   "metadata": {},
   "outputs": [],
   "source": [
    "def read_html(file):\n",
    "    soup = BeautifulSoup(file)\n",
    "    projects_section = soup.select(\".feeds-container\")[0]\n",
    "    project_els = projects_section.select(\".note-item\")\n",
    "\n",
    "    answer_list = []\n",
    "\n",
    "    for i, elem in enumerate(project_els):\n",
    "        try:\n",
    "            clean_link = elem.select('a[style=\"display: none;\"]')[0]['href']\n",
    "            dirty_link = elem.select('a[target=\"_self\"]')[0]['href']\n",
    "            try:\n",
    "                title = elem.select('.footer>.title')[0].text\n",
    "            except IndexError:\n",
    "                title = \"\"\n",
    "            like_count = elem.select('.count')[0].text\n",
    "            author_name = elem.select('.name')[0].text\n",
    "            author_link = elem.select('.author')[0]['href']\n",
    "            temp_dictionary = {\"title\":title, \"like_count\":like_count, \"author_name\":author_name, \"author_link\":author_link, \"clean_link\":clean_link, \"dirty_link\":dirty_link}\n",
    "            answer_list.append(temp_dictionary)\n",
    "            \n",
    "        except IndexError:\n",
    "            print(i, elem.select('.query-note-header-text'))\n",
    "    \n",
    "    return answer_list\n",
    "\n",
    "\n"
   ]
  },
  {
   "cell_type": "code",
   "execution_count": 19,
   "id": "a5075809-658f-49cc-b4fa-406596f10968",
   "metadata": {},
   "outputs": [
    {
     "name": "stdout",
     "output_type": "stream",
     "text": [
      "11 [<span class=\"query-note-header-text\" data-v-f2b40456=\"\">相关搜索</span>]\n",
      "21 [<span class=\"query-note-header-text\" data-v-f2b40456=\"\">相关搜索</span>]\n",
      "5 [<span class=\"query-note-header-text\" data-v-f2b40456=\"\">相关搜索</span>]\n",
      "4 [<span class=\"query-note-header-text\" data-v-f2b40456=\"\">相关搜索</span>]\n",
      "14 [<span class=\"query-note-header-text\" data-v-f2b40456=\"\">相关搜索</span>]\n",
      "26 [<span class=\"query-note-header-text\" data-v-f2b40456=\"\">相关搜索</span>]\n",
      "7 [<span class=\"query-note-header-text\" data-v-f2b40456=\"\">相关搜索</span>]\n",
      "17 [<span class=\"query-note-header-text\" data-v-f2b40456=\"\">相关搜索</span>]\n",
      "6 [<span class=\"query-note-header-text\" data-v-f2b40456=\"\">相关搜索</span>]\n",
      "16 [<span class=\"query-note-header-text\" data-v-f2b40456=\"\">相关搜索</span>]\n",
      "0 [<span class=\"query-note-header-text\" data-v-f2b40456=\"\">相关搜索</span>]\n",
      "10 [<span class=\"query-note-header-text\" data-v-f2b40456=\"\">相关搜索</span>]\n",
      "22 [<span class=\"query-note-header-text\" data-v-f2b40456=\"\">相关搜索</span>]\n",
      "9 [<span class=\"query-note-header-text\" data-v-f2b40456=\"\">相关搜索</span>]\n",
      "19 [<span class=\"query-note-header-text\" data-v-f2b40456=\"\">相关搜索</span>]\n",
      "0 [<span class=\"query-note-header-text\" data-v-f2b40456=\"\">相关搜索</span>]\n",
      "10 [<span class=\"query-note-header-text\" data-v-f2b40456=\"\">相关搜索</span>]\n",
      "21 [<span class=\"query-note-header-text\" data-v-f2b40456=\"\">相关搜索</span>]\n"
     ]
    }
   ],
   "source": [
    "directory = \"./data/scraped/\"\n",
    "\n",
    "temp_array = []\n",
    "\n",
    "for filename in os.listdir(directory):\n",
    "    if filename.endswith('.html'):\n",
    "        full_path = os.path.join(directory, filename)\n",
    "        with open(full_path, 'r') as file: \n",
    "            content = file.read()\n",
    "        temp_array.extend(read_html(content))\n",
    "\n"
   ]
  },
  {
   "cell_type": "markdown",
   "id": "6db5bd3a-3672-4b87-880c-39e199762cd5",
   "metadata": {},
   "source": [
    "# Now, let's pandas!"
   ]
  },
  {
   "cell_type": "code",
   "execution_count": 27,
   "id": "aba49262-656c-4b45-aa3c-035f16aa597b",
   "metadata": {},
   "outputs": [],
   "source": [
    "import pandas as pd \n",
    "\n",
    "pd.options.display.max_colwidth = None\n",
    "pd.set_option('display.max_columns', None)\n",
    "pd.options.display.float_format = '{:.4f}'.format"
   ]
  },
  {
   "cell_type": "code",
   "execution_count": 28,
   "id": "3eb1ba5a-79a2-42e9-a487-dcf55501db40",
   "metadata": {},
   "outputs": [],
   "source": [
    "df = pd.json_normalize(temp_array)"
   ]
  },
  {
   "cell_type": "code",
   "execution_count": 31,
   "id": "6fef0113-1e5b-4b0a-91ff-fff2f354b1b3",
   "metadata": {},
   "outputs": [],
   "source": [
    "df = df.drop_duplicates()"
   ]
  },
  {
   "cell_type": "markdown",
   "id": "50b3a1fc-82af-4fe8-bd18-0f6f88b99070",
   "metadata": {},
   "source": [
    "# Cleaning data!\n",
    "## first, like count"
   ]
  },
  {
   "cell_type": "code",
   "execution_count": 38,
   "id": "0774fbf8-c762-4a92-aabe-9bfb8caec13e",
   "metadata": {
    "scrolled": true
   },
   "outputs": [
    {
     "data": {
      "text/html": [
       "<div>\n",
       "<style scoped>\n",
       "    .dataframe tbody tr th:only-of-type {\n",
       "        vertical-align: middle;\n",
       "    }\n",
       "\n",
       "    .dataframe tbody tr th {\n",
       "        vertical-align: top;\n",
       "    }\n",
       "\n",
       "    .dataframe thead th {\n",
       "        text-align: right;\n",
       "    }\n",
       "</style>\n",
       "<table border=\"1\" class=\"dataframe\">\n",
       "  <thead>\n",
       "    <tr style=\"text-align: right;\">\n",
       "      <th></th>\n",
       "      <th>title</th>\n",
       "      <th>like_count</th>\n",
       "      <th>author_name</th>\n",
       "      <th>author_link</th>\n",
       "      <th>clean_link</th>\n",
       "      <th>dirty_link</th>\n",
       "    </tr>\n",
       "  </thead>\n",
       "  <tbody>\n",
       "    <tr>\n",
       "      <th>152</th>\n",
       "      <td>核废水🤬</td>\n",
       "      <td>赞</td>\n",
       "      <td>魚.恋海</td>\n",
       "      <td>/user/profile/5cbebae40000000017033a4c?channel_type=web_search_result_notes&amp;parent_page_channel_type=web_profile_board</td>\n",
       "      <td>/explore/669d21cc0000000025017711</td>\n",
       "      <td>/search_result/669d21cc0000000025017711?xsec_token=ABoHzno4MwbJIXf9WhM3Ewwzc9dDUEB3N-GcPHWnhRie4=&amp;xsec_source=pc_search</td>\n",
       "    </tr>\n",
       "    <tr>\n",
       "      <th>331</th>\n",
       "      <td>这也太霸气了吧</td>\n",
       "      <td>赞</td>\n",
       "      <td>风潮啸啸声</td>\n",
       "      <td>/user/profile/61c5b98700000000100073f9?channel_type=web_search_result_notes&amp;parent_page_channel_type=web_profile_board</td>\n",
       "      <td>/explore/65dd55e8000000000b014b6d</td>\n",
       "      <td>/search_result/65dd55e8000000000b014b6d?xsec_token=ABq3gfj_SfX-BX9G6lTviWloYEJRMFqgOmqmOpKAP2Jvk=&amp;xsec_source=pc_search</td>\n",
       "    </tr>\n",
       "    <tr>\n",
       "      <th>203</th>\n",
       "      <td>保护海洋环境</td>\n",
       "      <td>赞</td>\n",
       "      <td>风潮啸啸声</td>\n",
       "      <td>/user/profile/61c5b98700000000100073f9?channel_type=web_search_result_notes&amp;parent_page_channel_type=web_profile_board</td>\n",
       "      <td>/explore/65eb067f000000000600eb38</td>\n",
       "      <td>/search_result/65eb067f000000000600eb38?xsec_token=ABnnBlFs954PbaKRzNwnmooM8bq7_JFsUYwjFFfLEKbdc=&amp;xsec_source=pc_search</td>\n",
       "    </tr>\n",
       "    <tr>\n",
       "      <th>51</th>\n",
       "      <td>日本核污染水240天影响我国海域的论文团队</td>\n",
       "      <td>99</td>\n",
       "      <td>野生岛海参-老刘</td>\n",
       "      <td>/user/profile/662f5f6300000000070046c4?channel_type=web_search_result_notes&amp;parent_page_channel_type=web_profile_board</td>\n",
       "      <td>/explore/6674c913000000001e0122cb</td>\n",
       "      <td>/search_result/6674c913000000001e0122cb?xsec_token=ABAnNYK494n2C9IaIh97BVHbX8RdeUR4k7gG141MoWmdQ=&amp;xsec_source=pc_search</td>\n",
       "    </tr>\n",
       "    <tr>\n",
       "      <th>84</th>\n",
       "      <td>纯净的海洋一去不复返了</td>\n",
       "      <td>983</td>\n",
       "      <td>小胡同学</td>\n",
       "      <td>/user/profile/6255430d000000001000abe9?channel_type=web_search_result_notes&amp;parent_page_channel_type=web_profile_board</td>\n",
       "      <td>/explore/668a3246000000000a0260c8</td>\n",
       "      <td>/search_result/668a3246000000000a0260c8?xsec_token=ABdiq6LvboR2kNgsoGTSzvATO_b0HTczo-mQ2Ai99gVCA=&amp;xsec_source=pc_search</td>\n",
       "    </tr>\n",
       "    <tr>\n",
       "      <th>...</th>\n",
       "      <td>...</td>\n",
       "      <td>...</td>\n",
       "      <td>...</td>\n",
       "      <td>...</td>\n",
       "      <td>...</td>\n",
       "      <td>...</td>\n",
       "    </tr>\n",
       "    <tr>\n",
       "      <th>166</th>\n",
       "      <td>核废水/抵制/搬运可搬运</td>\n",
       "      <td>10</td>\n",
       "      <td>QrZy314</td>\n",
       "      <td>/user/profile/62f47435000000001f0041f0?channel_type=web_search_result_notes&amp;parent_page_channel_type=web_profile_board</td>\n",
       "      <td>/explore/669bf0fb0000000025006104</td>\n",
       "      <td>/search_result/669bf0fb0000000025006104?xsec_token=ABRnYMBIGZrA9GRkNxCNZd0QaVGfR-eOywguNCB50Ubb8=&amp;xsec_source=pc_search</td>\n",
       "    </tr>\n",
       "    <tr>\n",
       "      <th>157</th>\n",
       "      <td>核废水污染的鱼，你还敢吃吗</td>\n",
       "      <td>10</td>\n",
       "      <td>科学奇观</td>\n",
       "      <td>/user/profile/6681624500000000070077f5?channel_type=web_search_result_notes&amp;parent_page_channel_type=web_profile_board</td>\n",
       "      <td>/explore/669ceb1200000000250013c3</td>\n",
       "      <td>/search_result/669ceb1200000000250013c3?xsec_token=ABdQFCPZgupS7EwZwEkCNJBqtS6_UVLJf6KgkM2Snd7bU=&amp;xsec_source=pc_search</td>\n",
       "    </tr>\n",
       "    <tr>\n",
       "      <th>337</th>\n",
       "      <td></td>\n",
       "      <td>1.8万</td>\n",
       "      <td>Always popcorn</td>\n",
       "      <td>/user/profile/630d5aba000000000f00740f?channel_type=web_search_result_notes&amp;parent_page_channel_type=web_profile_board</td>\n",
       "      <td>/explore/65d055a40000000007027a93</td>\n",
       "      <td>/search_result/65d055a40000000007027a93?xsec_token=ABsGkncUaCz6DJqpULDhpM-H5ZBeqpB_G1hVJkN5BOjzo=&amp;xsec_source=pc_search</td>\n",
       "    </tr>\n",
       "    <tr>\n",
       "      <th>28</th>\n",
       "      <td></td>\n",
       "      <td>1.7万</td>\n",
       "      <td>主角.</td>\n",
       "      <td>/user/profile/62674cd10000000010008cd0?channel_type=web_search_result_notes&amp;parent_page_channel_type=web_profile_board</td>\n",
       "      <td>/explore/65b728c9000000002c0293e6</td>\n",
       "      <td>/search_result/65b728c9000000002c0293e6?xsec_token=ABmH41ot4WWXXXnUYPB07aAmQT19WZE3hDN0Rom-1247M=&amp;xsec_source=pc_search</td>\n",
       "    </tr>\n",
       "    <tr>\n",
       "      <th>140</th>\n",
       "      <td>手起刀落 像是地狱来的屠夫。</td>\n",
       "      <td>1.3万</td>\n",
       "      <td>牧牧酱紫</td>\n",
       "      <td>/user/profile/64195de90000000012013d51?channel_type=web_search_result_notes&amp;parent_page_channel_type=web_profile_board</td>\n",
       "      <td>/explore/662a3d260000000001030304</td>\n",
       "      <td>/search_result/662a3d260000000001030304?xsec_token=ABpFNz5sWJ-zDTBGhW1x5vEZM5yZh2cU-brBFvq29bGew=&amp;xsec_source=pc_search</td>\n",
       "    </tr>\n",
       "  </tbody>\n",
       "</table>\n",
       "<p>219 rows × 6 columns</p>\n",
       "</div>"
      ],
      "text/plain": [
       "                     title like_count     author_name  \\\n",
       "152                   核废水🤬          赞            魚.恋海   \n",
       "331                这也太霸气了吧          赞           风潮啸啸声   \n",
       "203                 保护海洋环境          赞           风潮啸啸声   \n",
       "51   日本核污染水240天影响我国海域的论文团队         99        野生岛海参-老刘   \n",
       "84             纯净的海洋一去不复返了        983            小胡同学   \n",
       "..                     ...        ...             ...   \n",
       "166           核废水/抵制/搬运可搬运         10         QrZy314   \n",
       "157          核废水污染的鱼，你还敢吃吗         10            科学奇观   \n",
       "337                              1.8万  Always popcorn   \n",
       "28                               1.7万             主角.   \n",
       "140         手起刀落 像是地狱来的屠夫。       1.3万            牧牧酱紫   \n",
       "\n",
       "                                                                                                                author_link  \\\n",
       "152  /user/profile/5cbebae40000000017033a4c?channel_type=web_search_result_notes&parent_page_channel_type=web_profile_board   \n",
       "331  /user/profile/61c5b98700000000100073f9?channel_type=web_search_result_notes&parent_page_channel_type=web_profile_board   \n",
       "203  /user/profile/61c5b98700000000100073f9?channel_type=web_search_result_notes&parent_page_channel_type=web_profile_board   \n",
       "51   /user/profile/662f5f6300000000070046c4?channel_type=web_search_result_notes&parent_page_channel_type=web_profile_board   \n",
       "84   /user/profile/6255430d000000001000abe9?channel_type=web_search_result_notes&parent_page_channel_type=web_profile_board   \n",
       "..                                                                                                                      ...   \n",
       "166  /user/profile/62f47435000000001f0041f0?channel_type=web_search_result_notes&parent_page_channel_type=web_profile_board   \n",
       "157  /user/profile/6681624500000000070077f5?channel_type=web_search_result_notes&parent_page_channel_type=web_profile_board   \n",
       "337  /user/profile/630d5aba000000000f00740f?channel_type=web_search_result_notes&parent_page_channel_type=web_profile_board   \n",
       "28   /user/profile/62674cd10000000010008cd0?channel_type=web_search_result_notes&parent_page_channel_type=web_profile_board   \n",
       "140  /user/profile/64195de90000000012013d51?channel_type=web_search_result_notes&parent_page_channel_type=web_profile_board   \n",
       "\n",
       "                            clean_link  \\\n",
       "152  /explore/669d21cc0000000025017711   \n",
       "331  /explore/65dd55e8000000000b014b6d   \n",
       "203  /explore/65eb067f000000000600eb38   \n",
       "51   /explore/6674c913000000001e0122cb   \n",
       "84   /explore/668a3246000000000a0260c8   \n",
       "..                                 ...   \n",
       "166  /explore/669bf0fb0000000025006104   \n",
       "157  /explore/669ceb1200000000250013c3   \n",
       "337  /explore/65d055a40000000007027a93   \n",
       "28   /explore/65b728c9000000002c0293e6   \n",
       "140  /explore/662a3d260000000001030304   \n",
       "\n",
       "                                                                                                                  dirty_link  \n",
       "152  /search_result/669d21cc0000000025017711?xsec_token=ABoHzno4MwbJIXf9WhM3Ewwzc9dDUEB3N-GcPHWnhRie4=&xsec_source=pc_search  \n",
       "331  /search_result/65dd55e8000000000b014b6d?xsec_token=ABq3gfj_SfX-BX9G6lTviWloYEJRMFqgOmqmOpKAP2Jvk=&xsec_source=pc_search  \n",
       "203  /search_result/65eb067f000000000600eb38?xsec_token=ABnnBlFs954PbaKRzNwnmooM8bq7_JFsUYwjFFfLEKbdc=&xsec_source=pc_search  \n",
       "51   /search_result/6674c913000000001e0122cb?xsec_token=ABAnNYK494n2C9IaIh97BVHbX8RdeUR4k7gG141MoWmdQ=&xsec_source=pc_search  \n",
       "84   /search_result/668a3246000000000a0260c8?xsec_token=ABdiq6LvboR2kNgsoGTSzvATO_b0HTczo-mQ2Ai99gVCA=&xsec_source=pc_search  \n",
       "..                                                                                                                       ...  \n",
       "166  /search_result/669bf0fb0000000025006104?xsec_token=ABRnYMBIGZrA9GRkNxCNZd0QaVGfR-eOywguNCB50Ubb8=&xsec_source=pc_search  \n",
       "157  /search_result/669ceb1200000000250013c3?xsec_token=ABdQFCPZgupS7EwZwEkCNJBqtS6_UVLJf6KgkM2Snd7bU=&xsec_source=pc_search  \n",
       "337  /search_result/65d055a40000000007027a93?xsec_token=ABsGkncUaCz6DJqpULDhpM-H5ZBeqpB_G1hVJkN5BOjzo=&xsec_source=pc_search  \n",
       "28   /search_result/65b728c9000000002c0293e6?xsec_token=ABmH41ot4WWXXXnUYPB07aAmQT19WZE3hDN0Rom-1247M=&xsec_source=pc_search  \n",
       "140  /search_result/662a3d260000000001030304?xsec_token=ABpFNz5sWJ-zDTBGhW1x5vEZM5yZh2cU-brBFvq29bGew=&xsec_source=pc_search  \n",
       "\n",
       "[219 rows x 6 columns]"
      ]
     },
     "execution_count": 38,
     "metadata": {},
     "output_type": "execute_result"
    }
   ],
   "source": [
    "df.sort_values('like_count', ascending=False)"
   ]
  },
  {
   "cell_type": "code",
   "execution_count": 37,
   "id": "3f2430f2-f1e1-4f6a-b001-706fb1cab70c",
   "metadata": {
    "scrolled": true
   },
   "outputs": [
    {
     "data": {
      "text/html": [
       "<div>\n",
       "<style scoped>\n",
       "    .dataframe tbody tr th:only-of-type {\n",
       "        vertical-align: middle;\n",
       "    }\n",
       "\n",
       "    .dataframe tbody tr th {\n",
       "        vertical-align: top;\n",
       "    }\n",
       "\n",
       "    .dataframe thead th {\n",
       "        text-align: right;\n",
       "    }\n",
       "</style>\n",
       "<table border=\"1\" class=\"dataframe\">\n",
       "  <thead>\n",
       "    <tr style=\"text-align: right;\">\n",
       "      <th></th>\n",
       "      <th>title</th>\n",
       "      <th>like_count</th>\n",
       "      <th>author_name</th>\n",
       "      <th>author_link</th>\n",
       "      <th>clean_link</th>\n",
       "      <th>dirty_link</th>\n",
       "    </tr>\n",
       "  </thead>\n",
       "  <tbody>\n",
       "    <tr>\n",
       "      <th>28</th>\n",
       "      <td></td>\n",
       "      <td>1.7万</td>\n",
       "      <td>主角.</td>\n",
       "      <td>/user/profile/62674cd10000000010008cd0?channel_type=web_search_result_notes&amp;parent_page_channel_type=web_profile_board</td>\n",
       "      <td>/explore/65b728c9000000002c0293e6</td>\n",
       "      <td>/search_result/65b728c9000000002c0293e6?xsec_token=ABmH41ot4WWXXXnUYPB07aAmQT19WZE3hDN0Rom-1247M=&amp;xsec_source=pc_search</td>\n",
       "    </tr>\n",
       "    <tr>\n",
       "      <th>39</th>\n",
       "      <td>铁子们，日本的核污水危害有多大⚠️</td>\n",
       "      <td>2万</td>\n",
       "      <td>阿师傅Asaad</td>\n",
       "      <td>/user/profile/6385abcd000000001f015dfb?channel_type=web_search_result_notes&amp;parent_page_channel_type=web_profile_board</td>\n",
       "      <td>/explore/6582801c000000003a00a638</td>\n",
       "      <td>/search_result/6582801c000000003a00a638?xsec_token=ABlOjfhtOsurf3ppaFGH-yiar2JwwsDbTJF1EfMqtScv8=&amp;xsec_source=pc_search</td>\n",
       "    </tr>\n",
       "    <tr>\n",
       "      <th>65</th>\n",
       "      <td>无所谓，我会一直发核污水</td>\n",
       "      <td>5.5万</td>\n",
       "      <td>北北</td>\n",
       "      <td>/user/profile/64c135b1000000002b0087ce?channel_type=web_search_result_notes&amp;parent_page_channel_type=web_profile_board</td>\n",
       "      <td>/explore/66610669000000000d00fb7f</td>\n",
       "      <td>/search_result/66610669000000000d00fb7f?xsec_token=ABpae9OSqzUTZN-aDc0-vwO6DNqbOSIThggIjGINTEw1E=&amp;xsec_source=pc_search</td>\n",
       "    </tr>\n",
       "    <tr>\n",
       "      <th>75</th>\n",
       "      <td>无所谓，我会一直发核污水</td>\n",
       "      <td>3.6万</td>\n",
       "      <td>北北</td>\n",
       "      <td>/user/profile/64c135b1000000002b0087ce?channel_type=web_search_result_notes&amp;parent_page_channel_type=web_profile_board</td>\n",
       "      <td>/explore/6687507b000000001c025b65</td>\n",
       "      <td>/search_result/6687507b000000001c025b65?xsec_token=ABMZGfhtCGOUdvYbnjEFNbPl4DcFblLEqIorPyjJvASjU=&amp;xsec_source=pc_search</td>\n",
       "    </tr>\n",
       "    <tr>\n",
       "      <th>138</th>\n",
       "      <td></td>\n",
       "      <td>4.6万</td>\n",
       "      <td>在路上</td>\n",
       "      <td>/user/profile/5fcb723a0000000001009487?channel_type=web_search_result_notes&amp;parent_page_channel_type=web_profile_board</td>\n",
       "      <td>/explore/662d8a80000000000d03007b</td>\n",
       "      <td>/search_result/662d8a80000000000d03007b?xsec_token=ABosqRb4FAhaSVnzQxwbKC5X3hkeZ4Q2pgNT5Lfw8Ol8g=&amp;xsec_source=pc_search</td>\n",
       "    </tr>\n",
       "    <tr>\n",
       "      <th>140</th>\n",
       "      <td>手起刀落 像是地狱来的屠夫。</td>\n",
       "      <td>1.3万</td>\n",
       "      <td>牧牧酱紫</td>\n",
       "      <td>/user/profile/64195de90000000012013d51?channel_type=web_search_result_notes&amp;parent_page_channel_type=web_profile_board</td>\n",
       "      <td>/explore/662a3d260000000001030304</td>\n",
       "      <td>/search_result/662a3d260000000001030304?xsec_token=ABpFNz5sWJ-zDTBGhW1x5vEZM5yZh2cU-brBFvq29bGew=&amp;xsec_source=pc_search</td>\n",
       "    </tr>\n",
       "    <tr>\n",
       "      <th>337</th>\n",
       "      <td></td>\n",
       "      <td>1.8万</td>\n",
       "      <td>Always popcorn</td>\n",
       "      <td>/user/profile/630d5aba000000000f00740f?channel_type=web_search_result_notes&amp;parent_page_channel_type=web_profile_board</td>\n",
       "      <td>/explore/65d055a40000000007027a93</td>\n",
       "      <td>/search_result/65d055a40000000007027a93?xsec_token=ABsGkncUaCz6DJqpULDhpM-H5ZBeqpB_G1hVJkN5BOjzo=&amp;xsec_source=pc_search</td>\n",
       "    </tr>\n",
       "    <tr>\n",
       "      <th>363</th>\n",
       "      <td>日本核污水没热度了么，不做冷漠看客</td>\n",
       "      <td>2.8万</td>\n",
       "      <td>今天没被气哭</td>\n",
       "      <td>/user/profile/63f95cd8000000000f011187?channel_type=web_search_result_notes&amp;parent_page_channel_type=web_profile_board</td>\n",
       "      <td>/explore/65bc3910000000002c03a960</td>\n",
       "      <td>/search_result/65bc3910000000002c03a960?xsec_token=ABo6-HhqpfeWsKNJ5w_7Sf34dV_t1EunD3QEViO9RlwO8=&amp;xsec_source=pc_search</td>\n",
       "    </tr>\n",
       "  </tbody>\n",
       "</table>\n",
       "</div>"
      ],
      "text/plain": [
       "                 title like_count     author_name  \\\n",
       "28                           1.7万             主角.   \n",
       "39   铁子们，日本的核污水危害有多大⚠️         2万        阿师傅Asaad   \n",
       "65        无所谓，我会一直发核污水       5.5万              北北   \n",
       "75        无所谓，我会一直发核污水       3.6万              北北   \n",
       "138                          4.6万             在路上   \n",
       "140     手起刀落 像是地狱来的屠夫。       1.3万            牧牧酱紫   \n",
       "337                          1.8万  Always popcorn   \n",
       "363  日本核污水没热度了么，不做冷漠看客       2.8万          今天没被气哭   \n",
       "\n",
       "                                                                                                                author_link  \\\n",
       "28   /user/profile/62674cd10000000010008cd0?channel_type=web_search_result_notes&parent_page_channel_type=web_profile_board   \n",
       "39   /user/profile/6385abcd000000001f015dfb?channel_type=web_search_result_notes&parent_page_channel_type=web_profile_board   \n",
       "65   /user/profile/64c135b1000000002b0087ce?channel_type=web_search_result_notes&parent_page_channel_type=web_profile_board   \n",
       "75   /user/profile/64c135b1000000002b0087ce?channel_type=web_search_result_notes&parent_page_channel_type=web_profile_board   \n",
       "138  /user/profile/5fcb723a0000000001009487?channel_type=web_search_result_notes&parent_page_channel_type=web_profile_board   \n",
       "140  /user/profile/64195de90000000012013d51?channel_type=web_search_result_notes&parent_page_channel_type=web_profile_board   \n",
       "337  /user/profile/630d5aba000000000f00740f?channel_type=web_search_result_notes&parent_page_channel_type=web_profile_board   \n",
       "363  /user/profile/63f95cd8000000000f011187?channel_type=web_search_result_notes&parent_page_channel_type=web_profile_board   \n",
       "\n",
       "                            clean_link  \\\n",
       "28   /explore/65b728c9000000002c0293e6   \n",
       "39   /explore/6582801c000000003a00a638   \n",
       "65   /explore/66610669000000000d00fb7f   \n",
       "75   /explore/6687507b000000001c025b65   \n",
       "138  /explore/662d8a80000000000d03007b   \n",
       "140  /explore/662a3d260000000001030304   \n",
       "337  /explore/65d055a40000000007027a93   \n",
       "363  /explore/65bc3910000000002c03a960   \n",
       "\n",
       "                                                                                                                  dirty_link  \n",
       "28   /search_result/65b728c9000000002c0293e6?xsec_token=ABmH41ot4WWXXXnUYPB07aAmQT19WZE3hDN0Rom-1247M=&xsec_source=pc_search  \n",
       "39   /search_result/6582801c000000003a00a638?xsec_token=ABlOjfhtOsurf3ppaFGH-yiar2JwwsDbTJF1EfMqtScv8=&xsec_source=pc_search  \n",
       "65   /search_result/66610669000000000d00fb7f?xsec_token=ABpae9OSqzUTZN-aDc0-vwO6DNqbOSIThggIjGINTEw1E=&xsec_source=pc_search  \n",
       "75   /search_result/6687507b000000001c025b65?xsec_token=ABMZGfhtCGOUdvYbnjEFNbPl4DcFblLEqIorPyjJvASjU=&xsec_source=pc_search  \n",
       "138  /search_result/662d8a80000000000d03007b?xsec_token=ABosqRb4FAhaSVnzQxwbKC5X3hkeZ4Q2pgNT5Lfw8Ol8g=&xsec_source=pc_search  \n",
       "140  /search_result/662a3d260000000001030304?xsec_token=ABpFNz5sWJ-zDTBGhW1x5vEZM5yZh2cU-brBFvq29bGew=&xsec_source=pc_search  \n",
       "337  /search_result/65d055a40000000007027a93?xsec_token=ABsGkncUaCz6DJqpULDhpM-H5ZBeqpB_G1hVJkN5BOjzo=&xsec_source=pc_search  \n",
       "363  /search_result/65bc3910000000002c03a960?xsec_token=ABo6-HhqpfeWsKNJ5w_7Sf34dV_t1EunD3QEViO9RlwO8=&xsec_source=pc_search  "
      ]
     },
     "execution_count": 37,
     "metadata": {},
     "output_type": "execute_result"
    }
   ],
   "source": [
    "df[df['like_count'].str.contains('万')]"
   ]
  },
  {
   "cell_type": "code",
   "execution_count": 48,
   "id": "cddc60e1-d190-41de-94f7-811be3567014",
   "metadata": {},
   "outputs": [
    {
     "name": "stdout",
     "output_type": "stream",
     "text": [
      "there are no numbers\n",
      "there are no numbers\n",
      "there are no numbers\n"
     ]
    },
    {
     "name": "stderr",
     "output_type": "stream",
     "text": [
      "/var/folders/0m/017nxsmd41d8d_6l0m1h_03r0000gn/T/ipykernel_8446/2336425680.py:20: SettingWithCopyWarning: \n",
      "A value is trying to be set on a copy of a slice from a DataFrame.\n",
      "Try using .loc[row_indexer,col_indexer] = value instead\n",
      "\n",
      "See the caveats in the documentation: https://pandas.pydata.org/pandas-docs/stable/user_guide/indexing.html#returning-a-view-versus-a-copy\n",
      "  df['normalized_count'] = df['like_count'].apply(correct_likes)\n"
     ]
    }
   ],
   "source": [
    "import re\n",
    "# 1 万 = 10000\n",
    "def correct_likes(value):\n",
    "    match = re.search(r'\\d+', value)\n",
    "    if match:\n",
    "        number = int(match.group())\n",
    "\n",
    "        if '万' in value:\n",
    "            answer = number * 10000\n",
    "        \n",
    "        elif value == '赞':\n",
    "            answer = 0\n",
    "        else:\n",
    "            answer = number\n",
    "    else:\n",
    "        answer = 0\n",
    "        print('there are no numbers')\n",
    "    return answer\n",
    "\n",
    "df['normalized_count'] = df['like_count'].apply(correct_likes)"
   ]
  },
  {
   "cell_type": "code",
   "execution_count": 55,
   "id": "e6a30676-cc2f-492b-944c-4d7047a48189",
   "metadata": {},
   "outputs": [
    {
     "name": "stderr",
     "output_type": "stream",
     "text": [
      "/var/folders/0m/017nxsmd41d8d_6l0m1h_03r0000gn/T/ipykernel_8446/2567871668.py:3: SettingWithCopyWarning: \n",
      "A value is trying to be set on a copy of a slice from a DataFrame.\n",
      "Try using .loc[row_indexer,col_indexer] = value instead\n",
      "\n",
      "See the caveats in the documentation: https://pandas.pydata.org/pandas-docs/stable/user_guide/indexing.html#returning-a-view-versus-a-copy\n",
      "  df['correct_clean_link'] = \"www.xiaohongshu.com\" + df['clean_link']\n"
     ]
    }
   ],
   "source": [
    "# change author_link\tclean_link\n",
    "\n",
    "df['correct_clean_link'] = \"www.xiaohongshu.com\" + df['clean_link']\n"
   ]
  },
  {
   "cell_type": "code",
   "execution_count": null,
   "id": "e20bbb24-74b5-40a4-8018-240b21db46be",
   "metadata": {},
   "outputs": [],
   "source": []
  },
  {
   "cell_type": "markdown",
   "id": "4442d38b-10f2-4857-8be4-cd3e2eec6692",
   "metadata": {},
   "source": [
    "# Now, Let's selenium"
   ]
  },
  {
   "cell_type": "code",
   "execution_count": 20,
   "id": "b46ceb6d-7a02-44f2-ac74-9c4f1049f538",
   "metadata": {},
   "outputs": [],
   "source": [
    "# login_url = \"https://www.xiaohongshu.com\"\n",
    "test_url = r\"file:///Users/yamakick/myprojects/China_Scraping/data/RED/%E6%A0%B8%E5%BA%9F%E6%B0%B4%20-%20%E5%B0%8F%E7%BA%A2%E4%B9%A6%E6%90%9C%E7%B4%A2.html\"\n",
    "\n",
    "test = 1\n",
    "if test == 1:\n",
    "    login_url = test_url\n",
    "    \n",
    "driver = webdriver.Chrome()\n",
    "driver.get(login_url)\n",
    "time.sleep(3)\n",
    "\n",
    "if test == 0:\n",
    "    input(\"press Enter after login\")  # ユーザーがEnterキーを押すまで待機します\n"
   ]
  },
  {
   "cell_type": "code",
   "execution_count": null,
   "id": "9677bf79-616a-4798-948e-43e9040c6fc1",
   "metadata": {},
   "outputs": [],
   "source": [
    "# search_box = driver.find_element(By.ID, \"search-input\")\n",
    "# search_box.send_keys(\"核废水\")\n",
    "# search_box.send_keys(Keys.ENTER)\n",
    "# # driver.find_element(By.ID, \"fruits\")"
   ]
  },
  {
   "cell_type": "code",
   "execution_count": null,
   "id": "e97df182-abc9-4c11-9fca-be43ac793933",
   "metadata": {},
   "outputs": [],
   "source": [
    "# projects_section = driver.find_element(By.CLASS_NAME,\"feeds-container\")\n",
    "# project_els = projects_section.find_elements(By.CLASS_NAME, \"note-item\")\n",
    "# len(project_els)"
   ]
  },
  {
   "cell_type": "markdown",
   "id": "a40295c8-4701-4bdf-a4e2-9aee9f5c7039",
   "metadata": {},
   "source": [
    "# def save_html\n",
    "https://murasan-itlab.com/python-selenium-get-html/"
   ]
  },
  {
   "cell_type": "code",
   "execution_count": null,
   "id": "d573878e-9288-4d7b-a6ad-a9abfcecf440",
   "metadata": {
    "scrolled": true
   },
   "outputs": [],
   "source": [
    "def save_html(target):\n",
    "    page_source = target.page_source\n",
    "    save_directory = './data/scraped/'\n",
    "    current_time = datetime.now().strftime(\"%Y%m%d_%H%M%S\")\n",
    "    file_name = current_time + 'page_source.html'\n",
    "    save_path = os.path.join(save_directory, file_name)\n",
    "    with open(save_path, 'w', encoding='utf-8') as f:\n",
    "        f.write(page_source)\n",
    "    print(file_name, 'is saved!')"
   ]
  },
  {
   "cell_type": "markdown",
   "id": "1c3c33ca-af29-49c4-ad32-a465c14077e8",
   "metadata": {},
   "source": [
    "# def screen_scroll\n",
    "* to scroll current driver\n",
    "* https://qiita.com/thistle0420/items/c80fb7b88896212493f5\n",
    "* just save onece"
   ]
  },
  {
   "cell_type": "code",
   "execution_count": null,
   "id": "0ebf3338-9d0f-43b9-9287-da9871e21317",
   "metadata": {},
   "outputs": [],
   "source": [
    "# get the height of browser\n",
    "win_height = driver.execute_script(\"return window.innerHeight\")\n",
    "\n",
    "def screen_scroll(driver):\n",
    "    # get 15th 'note-item' and get its relative height by executing javascript\n",
    "    target = random.randrange(8,16)\n",
    "    last_element_height = (driver.execute_script\n",
    "                   (f\"\"\"\n",
    "                   return document\n",
    "                   .getElementsByClassName('note-item')\n",
    "                   [{target}]\n",
    "                   .getBoundingClientRect()\n",
    "                   .top\n",
    "                   \"\"\")\n",
    "                  ) \n",
    "    # This website loads 21 note-items at onece. \n",
    "    # To prepare a risk where the browser skip any elements, the number of note-item the code read at onece is 15, not 21.\n",
    "\n",
    "    # get current height of the browser\n",
    "    current_height = driver.execute_script(\"return window.scrollY\")\n",
    "\n",
    "    # get absolute height of the terget element\n",
    "    target_height = current_height + last_element_height\n",
    "    top = current_height\n",
    "\n",
    "    # setting for random scroll speed\n",
    "    candidate_speed = [0.12, 0.1, 0.05]\n",
    "    use_speed = random.choice(candidate_speed)\n",
    "    \n",
    "    while top < target_height :\n",
    "        top += int(win_height * use_speed)\n",
    "        driver.execute_script(\"window.scrollTo(0, %d)\" % top)\n",
    "        time.sleep(0.02)\n",
    "    print(f'{current_height=}, {target=}, {use_speed=}')\n",
    "\n",
    "# screen_scroll(driver)"
   ]
  },
  {
   "cell_type": "markdown",
   "id": "2c607809-ec5e-43be-8211-288b99e24725",
   "metadata": {},
   "source": [
    "# Manually disguise operation\n",
    "* def screen_scroll\n",
    "* def save_html\n",
    "* manually click an element and watch that content( possibly take a screenshot)\n",
    "* input enter and go to another loop\n",
    "\n",
    "\n",
    "\n",
    "\n",
    "Another todo = user agent disguise"
   ]
  },
  {
   "cell_type": "code",
   "execution_count": null,
   "id": "bb2ee5f9-8c15-4a0f-a18e-3647c84f2d4b",
   "metadata": {},
   "outputs": [],
   "source": [
    "input_sentence = ''\n",
    "count = 1\n",
    "while input_sentence != 'exit':\n",
    "    save_html(driver)\n",
    "    screen_scroll(driver)\n",
    "    input_sentence = input(f'this is {count} loop. to exit loop, type \"exit\"')\n",
    "    count += 1\n",
    "    print('===================================')\n",
    "else:\n",
    "    print(f'exited the loop in {count} times')"
   ]
  },
  {
   "cell_type": "code",
   "execution_count": null,
   "id": "8e4c3064-c939-4854-874f-828fd02613f5",
   "metadata": {},
   "outputs": [],
   "source": []
  },
  {
   "cell_type": "code",
   "execution_count": null,
   "id": "a2994de1-2eb7-4949-b254-7683c1263fe3",
   "metadata": {},
   "outputs": [],
   "source": []
  },
  {
   "cell_type": "code",
   "execution_count": null,
   "id": "03274626-b647-446a-84b3-c1003541a811",
   "metadata": {},
   "outputs": [],
   "source": []
  },
  {
   "cell_type": "code",
   "execution_count": null,
   "id": "c853ff46-6644-47d9-b674-c4f76df94319",
   "metadata": {},
   "outputs": [],
   "source": []
  },
  {
   "cell_type": "markdown",
   "id": "e8adfd11-2628-4d65-a5a9-142ed32d88cc",
   "metadata": {},
   "source": [
    "# 明日やること 基本的に偽装工作\n",
    "* 読み込む項目数のランダム化\n",
    "* ときどきアイテムを開いて待機する\n",
    "* スクロール時間などのランダム化"
   ]
  },
  {
   "cell_type": "code",
   "execution_count": null,
   "id": "518df43f-c46d-4ccf-8915-8c525fa19196",
   "metadata": {
    "scrolled": true
   },
   "outputs": [],
   "source": [
    "# def camouflage_click(driver):\n",
    "#     # elements = driver.find_elements(By.CLASS_NAME,\"feeds-container\")\n",
    "#     projects_section = driver.find_element(By.CLASS_NAME,\"feeds-container\")\n",
    "\n",
    "#     target = random.randrange(0,8)\n",
    "#     target_item = projects_section.find_elements(By.CLASS_NAME, \"note-item\")[target]\n",
    "#     print(target, target_item.text)\n",
    "#     # target_item.click()\n",
    "\n",
    "#     # webdriver.ActionChains(driver).send_keys(Keys.ESCAPE).perform() # pushing escape key\n",
    "\n",
    "\n",
    "# camouflage_click(driver)"
   ]
  },
  {
   "cell_type": "code",
   "execution_count": null,
   "id": "60b375c3-1141-4bd0-9643-cd2a8b7fe020",
   "metadata": {
    "scrolled": true
   },
   "outputs": [],
   "source": [
    "for i in range(50):\n",
    "    print(random.randrange(0,8))"
   ]
  },
  {
   "cell_type": "code",
   "execution_count": null,
   "id": "7fccccef-2685-4e48-a405-8de0154db730",
   "metadata": {},
   "outputs": [],
   "source": [
    "range(50)"
   ]
  },
  {
   "cell_type": "code",
   "execution_count": 2,
   "id": "85381249-5d57-4ad8-95be-d14f23e4a3f9",
   "metadata": {},
   "outputs": [],
   "source": [
    "# # copy and paste from:\n",
    "# # https://stackoverflow.com/questions/53039551/selenium-webdriver-modifying-navigator-webdriver-flag-to-prevent-selenium-detec\n",
    "\n",
    "# from selenium import webdriver\n",
    "\n",
    "# options = webdriver.ChromeOptions() \n",
    "# options.add_argument(\"start-maximized\")\n",
    "# options.add_experimental_option(\"excludeSwitches\", [\"enable-automation\"])\n",
    "# options.add_experimental_option('useAutomationExtension', False)\n",
    "# driver = webdriver.Chrome(options=options)\n",
    "\n",
    "# driver.execute_script(\"Object.defineProperty(navigator, 'webdriver', {get: () => undefined})\") # This is original, though it doesn't work\n",
    "# # driver.execute_script(\"Object.defineProperty(navigator, 'webdriver', {get: () => False})\")\n",
    "\n",
    "# # driver.execute_cdp_cmd('Network.setUserAgentOverride', {\"userAgent\": 'Mozilla/5.0 (Windows NT 10.0; Win64; x64) AppleWebKit/537.36 (KHTML, like Gecko) Chrome/83.0.4103.53 Safari/537.36'})\n",
    "# driver.execute_cdp_cmd('Network.setUserAgentOverride', {\"userAgent\": 'Mozilla/5.0 (Macintosh; Intel Mac OS X 10_15_7) AppleWebKit/537.36 (KHTML, like Gecko) Chrome/126.0.0.0 Safari/537.36'})\n",
    "\n",
    "# print(driver.execute_script(\"return navigator.userAgent;\"))\n",
    "# driver.get('https://google.com/')"
   ]
  }
 ],
 "metadata": {
  "kernelspec": {
   "display_name": "Python 3 (ipykernel)",
   "language": "python",
   "name": "python3"
  },
  "language_info": {
   "codemirror_mode": {
    "name": "ipython",
    "version": 3
   },
   "file_extension": ".py",
   "mimetype": "text/x-python",
   "name": "python",
   "nbconvert_exporter": "python",
   "pygments_lexer": "ipython3",
   "version": "3.11.8"
  },
  "widgets": {
   "application/vnd.jupyter.widget-state+json": {
    "state": {},
    "version_major": 2,
    "version_minor": 0
   }
  }
 },
 "nbformat": 4,
 "nbformat_minor": 5
}
